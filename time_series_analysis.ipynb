{
 "cells": [
  {
   "cell_type": "code",
   "execution_count": null,
   "id": "cdc1e387",
   "metadata": {},
   "outputs": [],
   "source": [
    "\n",
    "import pandas as pd\n",
    "import numpy as np\n",
    "import matplotlib.pyplot as plt\n",
    "import seaborn as sns\n",
    "from statsmodels.tsa.seasonal import seasonal_decompose\n",
    "from statsmodels.graphics.tsaplots import plot_acf, plot_pacf\n",
    "\n",
    "# Veri yükleme\n",
    "data = pd.read_excel('/mnt/data/cpu_tuketimi.xlsx')\n",
    "\n",
    "# Tarih sütununu datetime formatına çevirme\n",
    "data['tarih'] = pd.to_datetime(data['tarih'])\n",
    "data.set_index('tarih', inplace=True)\n",
    "\n",
    "# Veriye göz atma\n",
    "data.head()\n",
    "    "
   ]
  },
  {
   "cell_type": "markdown",
   "id": "72f7d370",
   "metadata": {},
   "source": [
    "## 1. Zaman Serisi Grafiği"
   ]
  },
  {
   "cell_type": "code",
   "execution_count": null,
   "id": "fb835a96",
   "metadata": {},
   "outputs": [],
   "source": [
    "\n",
    "plt.figure(figsize=(14, 7))\n",
    "plt.plot(data['cpu_tuketimi'], label='CPU Tüketimi')\n",
    "plt.title('Günlük CPU Tüketimi')\n",
    "plt.xlabel('Tarih')\n",
    "plt.ylabel('CPU Tüketimi')\n",
    "plt.legend()\n",
    "plt.show()\n",
    "    "
   ]
  },
  {
   "cell_type": "markdown",
   "id": "5ebe0ece",
   "metadata": {},
   "source": [
    "## 2. Aylık Ortalama CPU Tüketimi"
   ]
  },
  {
   "cell_type": "code",
   "execution_count": null,
   "id": "ea4f3d78",
   "metadata": {},
   "outputs": [],
   "source": [
    "\n",
    "data['ay'] = data.index.month\n",
    "aylik_ort = data.groupby('ay')['cpu_tuketimi'].mean()\n",
    "\n",
    "plt.figure(figsize=(10, 5))\n",
    "aylik_ort.plot(kind='bar')\n",
    "plt.title('Aylık Ortalama CPU Tüketimi')\n",
    "plt.xlabel('Ay')\n",
    "plt.ylabel('Ortalama CPU Tüketimi')\n",
    "plt.show()\n",
    "    "
   ]
  },
  {
   "cell_type": "markdown",
   "id": "2bf333ba",
   "metadata": {},
   "source": [
    "## 3. Yıllık Ortalama CPU Tüketimi"
   ]
  },
  {
   "cell_type": "code",
   "execution_count": null,
   "id": "0cbca13f",
   "metadata": {},
   "outputs": [],
   "source": [
    "\n",
    "data['yil'] = data.index.year\n",
    "yillik_ort = data.groupby('yil')['cpu_tuketimi'].mean()\n",
    "\n",
    "plt.figure(figsize=(10, 5))\n",
    "yillik_ort.plot(kind='bar')\n",
    "plt.title('Yıllık Ortalama CPU Tüketimi')\n",
    "plt.xlabel('Yıl')\n",
    "plt.ylabel('Ortalama CPU Tüketimi')\n",
    "plt.show()\n",
    "    "
   ]
  },
  {
   "cell_type": "markdown",
   "id": "c5b53dfa",
   "metadata": {},
   "source": [
    "## 4. Mevsimsel Dekompozisyon"
   ]
  },
  {
   "cell_type": "code",
   "execution_count": null,
   "id": "b25fb19e",
   "metadata": {},
   "outputs": [],
   "source": [
    "\n",
    "try:\n",
    "    result = seasonal_decompose(data['cpu_tuketimi'], model='additive', period=365)\n",
    "    result.plot()\n",
    "    plt.show()\n",
    "except ValueError as e:\n",
    "    print(f\"Hata: {e}\")\n",
    "    "
   ]
  },
  {
   "cell_type": "markdown",
   "id": "cd99fc87",
   "metadata": {},
   "source": [
    "## 5. ACF ve PACF Grafikleri"
   ]
  },
  {
   "cell_type": "code",
   "execution_count": null,
   "id": "cb25c197",
   "metadata": {},
   "outputs": [],
   "source": [
    "\n",
    "plt.figure(figsize=(12, 5))\n",
    "plt.subplot(121)\n",
    "plot_acf(data['cpu_tuketimi'], ax=plt.gca(), lags=50)\n",
    "plt.subplot(122)\n",
    "plot_pacf(data['cpu_tuketimi'], ax=plt.gca(), lags=50)\n",
    "plt.show()\n",
    "    "
   ]
  },
  {
   "cell_type": "markdown",
   "id": "8ff68aeb",
   "metadata": {},
   "source": [
    "## 6. Kutu Grafiği (Boxplot)"
   ]
  },
  {
   "cell_type": "code",
   "execution_count": null,
   "id": "6e4fb2bf",
   "metadata": {},
   "outputs": [],
   "source": [
    "\n",
    "plt.figure(figsize=(14, 7))\n",
    "data.boxplot(column='cpu_tuketimi', by='ay')\n",
    "plt.title('Aylık CPU Tüketimi Dağılımı')\n",
    "plt.xlabel('Ay')\n",
    "plt.ylabel('CPU Tüketimi')\n",
    "plt.show()\n",
    "    "
   ]
  },
  {
   "cell_type": "markdown",
   "id": "9a0d821c",
   "metadata": {},
   "source": [
    "## 7. Isı Haritası (Heatmap)"
   ]
  },
  {
   "cell_type": "code",
   "execution_count": null,
   "id": "cd233c0e",
   "metadata": {},
   "outputs": [],
   "source": [
    "\n",
    "pivot = data.pivot_table(values='cpu_tuketimi', index=data.index.day, columns=data.index.month)\n",
    "plt.figure(figsize=(14, 7))\n",
    "sns.heatmap(pivot, cmap='YlGnBu')\n",
    "plt.title('Günlük CPU Tüketimi Isı Haritası')\n",
    "plt.xlabel('Ay')\n",
    "plt.ylabel('Gün')\n",
    "plt.show()\n",
    "    "
   ]
  },
  {
   "cell_type": "markdown",
   "id": "b4b702af",
   "metadata": {},
   "source": [
    "## 8. Hareketli Ortalama Grafiği"
   ]
  },
  {
   "cell_type": "code",
   "execution_count": null,
   "id": "c18a3c80",
   "metadata": {},
   "outputs": [],
   "source": [
    "\n",
    "data['hareketli_ort_7'] = data['cpu_tuketimi'].rolling(window=7).mean()\n",
    "data['hareketli_ort_30'] = data['cpu_tuketimi'].rolling(window=30).mean()\n",
    "\n",
    "plt.figure(figsize=(14, 7))\n",
    "plt.plot(data['cpu_tuketimi'], label='CPU Tüketimi')\n",
    "plt.plot(data['hareketli_ort_7'], label='7 Günlük Hareketli Ortalama', linestyle='--')\n",
    "plt.plot(data['hareketli_ort_30'], label='30 Günlük Hareketli Ortalama', linestyle='--')\n",
    "plt.title('Günlük CPU Tüketimi ve Hareketli Ortalamalar')\n",
    "plt.xlabel('Tarih')\n",
    "plt.ylabel('CPU Tüketimi')\n",
    "plt.legend()\n",
    "plt.show()\n",
    "    "
   ]
  }
 ],
 "metadata": {},
 "nbformat": 4,
 "nbformat_minor": 5
}
